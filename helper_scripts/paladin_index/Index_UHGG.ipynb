{
 "cells": [
  {
   "cell_type": "markdown",
   "id": "8f4241f8",
   "metadata": {},
   "source": [
    "# Index Paladin Database\n",
    "\n",
    "Jacobo de la Cuesta-Zuluaga. June 2025.\n",
    "\n",
    "The aim of this notebook is to index the `UHGG` protein catalog for use with `Paladin`"
   ]
  },
  {
   "cell_type": "markdown",
   "id": "b10453bf",
   "metadata": {
    "vscode": {
     "languageId": "r"
    }
   },
   "source": [
    "## Load libraries and set paths"
   ]
  },
  {
   "cell_type": "code",
   "execution_count": 1,
   "id": "70b87e2f",
   "metadata": {
    "vscode": {
     "languageId": "r"
    }
   },
   "outputs": [
    {
     "name": "stderr",
     "output_type": "stream",
     "text": [
      "── \u001b[1mAttaching core tidyverse packages\u001b[22m ──────────────────────── tidyverse 2.0.0 ──\n",
      "\u001b[32m✔\u001b[39m \u001b[34mdplyr    \u001b[39m 1.1.4     \u001b[32m✔\u001b[39m \u001b[34mreadr    \u001b[39m 2.1.5\n",
      "\u001b[32m✔\u001b[39m \u001b[34mforcats  \u001b[39m 1.0.0     \u001b[32m✔\u001b[39m \u001b[34mstringr  \u001b[39m 1.5.1\n",
      "\u001b[32m✔\u001b[39m \u001b[34mggplot2  \u001b[39m 3.5.1     \u001b[32m✔\u001b[39m \u001b[34mtibble   \u001b[39m 3.2.1\n",
      "\u001b[32m✔\u001b[39m \u001b[34mlubridate\u001b[39m 1.9.3     \u001b[32m✔\u001b[39m \u001b[34mtidyr    \u001b[39m 1.3.1\n",
      "\u001b[32m✔\u001b[39m \u001b[34mpurrr    \u001b[39m 1.0.2     \n",
      "── \u001b[1mConflicts\u001b[22m ────────────────────────────────────────── tidyverse_conflicts() ──\n",
      "\u001b[31m✖\u001b[39m \u001b[34mdplyr\u001b[39m::\u001b[32mfilter()\u001b[39m masks \u001b[34mstats\u001b[39m::filter()\n",
      "\u001b[31m✖\u001b[39m \u001b[34mdplyr\u001b[39m::\u001b[32mlag()\u001b[39m    masks \u001b[34mstats\u001b[39m::lag()\n",
      "\u001b[36mℹ\u001b[39m Use the conflicted package (\u001b[3m\u001b[34m<http://conflicted.r-lib.org/>\u001b[39m\u001b[23m) to force all conflicts to become errors\n"
     ]
    }
   ],
   "source": [
    "# Libraries\n",
    "library(tidyverse)\n",
    "library(conflicted)"
   ]
  },
  {
   "cell_type": "code",
   "execution_count": 2,
   "id": "9673acb0",
   "metadata": {
    "vscode": {
     "languageId": "r"
    }
   },
   "outputs": [
    {
     "name": "stderr",
     "output_type": "stream",
     "text": [
      "\u001b[1m\u001b[22m\u001b[90m[conflicted]\u001b[39m Will prefer \u001b[1m\u001b[34mdplyr\u001b[39m\u001b[22m::filter over any other package.\n"
     ]
    }
   ],
   "source": [
    "# Solve conflicts\n",
    "conflicts_prefer(dplyr::filter)"
   ]
  },
  {
   "cell_type": "code",
   "execution_count": 3,
   "id": "afabaada",
   "metadata": {
    "vscode": {
     "languageId": "r"
    }
   },
   "outputs": [
    {
     "name": "stderr",
     "output_type": "stream",
     "text": [
      "Warning message in dir.create(index_dir):\n",
      "“'/mnt/lustre/groups/maier/databases/Paladin' already exists”\n"
     ]
    }
   ],
   "source": [
    "# Directories\n",
    "# Base directory\n",
    "databases_dir = \"/mnt/lustre/groups/maier/databases\"\n",
    "\n",
    "# UHGG database\n",
    "uhgg_faa = file.path(databases_dir, \"UHGG/Protein_catalog/uhgp-90/uhgp-90.faa\")\n",
    "\n",
    "# Out\n",
    "index_dir = file.path(databases_dir, \"Paladin\")\n",
    "dir.create(index_dir)\n",
    "\n",
    "# Conda\n",
    "conda_env = \"paladin\""
   ]
  },
  {
   "cell_type": "markdown",
   "id": "d4130876",
   "metadata": {
    "vscode": {
     "languageId": "r"
    }
   },
   "source": [
    "## Index protein database"
   ]
  },
  {
   "cell_type": "code",
   "execution_count": 4,
   "id": "803f43eb",
   "metadata": {
    "vscode": {
     "languageId": "r"
    }
   },
   "outputs": [
    {
     "data": {
      "text/html": [
       "FALSE"
      ],
      "text/latex": [
       "FALSE"
      ],
      "text/markdown": [
       "FALSE"
      ],
      "text/plain": [
       "[1] FALSE"
      ]
     },
     "metadata": {},
     "output_type": "display_data"
    }
   ],
   "source": [
    "# Copy UHGG  fasta to paladin folder\n",
    "file.copy(from = uhgg_faa, to = index_dir, overwrite = FALSE)\n",
    "uhgg_ref_faa = file.path(index_dir, \"uhgp-90.faa\")"
   ]
  },
  {
   "cell_type": "code",
   "execution_count": 5,
   "id": "9d3423d9",
   "metadata": {
    "vscode": {
     "languageId": "r"
    }
   },
   "outputs": [],
   "source": [
    "index_slurm_raw = str_glue(.open = \"[\", .close = \"]\",\n",
    "\"#!/bin/bash\n",
    "##############################\n",
    "#       Parameters           #\n",
    "##############################\n",
    "\n",
    "# This section will tell the cluster what are the resources your job will need.\n",
    "# Change the parameters accordingly and carefully!\n",
    "# The parameters here are a sensible start.\n",
    "\n",
    "# Name of the job\n",
    "#SBATCH --job-name=[[job_name]]\n",
    "\n",
    "# Generate an output file and give it a name\n",
    "#SBATCH --output=%x-%j.out\n",
    "\n",
    "# Number of tasks\n",
    "#SBATCH --ntasks=1\n",
    "\n",
    "# Number of cpus that this task will need\n",
    "#SBATCH --cpus-per-task=32\n",
    "\n",
    "# Specify the total memory required per node\n",
    "#SBATCH --mem=256G\n",
    "\n",
    "# Specify the maximum time this job can take to run before being killed (hh:mm:ss)\n",
    "#SBATCH --time=23:59:59\n",
    "\n",
    "# job information\n",
    "scontrol show job ${SLURM_JOB_ID}\n",
    "\n",
    "# do your real computation\n",
    "source $HOME/.bashrc\n",
    "conda activate [[conda_env]]\n",
    "cd [[index_dir]]\n",
    "paladin index -r3 [[Protein_reference]]\n",
    "\")"
   ]
  },
  {
   "cell_type": "code",
   "execution_count": 6,
   "id": "500b2e62",
   "metadata": {
    "vscode": {
     "languageId": "r"
    }
   },
   "outputs": [
    {
     "name": "stdout",
     "output_type": "stream",
     "text": [
      "#!/bin/bash\n",
      "##############################\n",
      "#       Parameters           #\n",
      "##############################\n",
      "\n",
      "# This section will tell the cluster what are the resources your job will need.\n",
      "# Change the parameters accordingly and carefully!\n",
      "# The parameters here are a sensible start.\n",
      "\n",
      "# Name of the job\n",
      "#SBATCH --job-name=paladin_index\n",
      "\n",
      "# Generate an output file and give it a name\n",
      "#SBATCH --output=%x-%j.out\n",
      "\n",
      "# Number of tasks\n",
      "#SBATCH --ntasks=1\n",
      "\n",
      "# Number of cpus that this task will need\n",
      "#SBATCH --cpus-per-task=32\n",
      "\n",
      "# Specify the total memory required per node\n",
      "#SBATCH --mem=256G\n",
      "\n",
      "# Specify the maximum time this job can take to run before being killed (hh:mm:ss)\n",
      "#SBATCH --time=23:59:59\n",
      "\n",
      "# job information\n",
      "scontrol show job ${SLURM_JOB_ID}\n",
      "\n",
      "# do your real computation\n",
      "source $HOME/.bashrc\n",
      "conda activate paladin\n",
      "cd /mnt/lustre/groups/maier/databases/Paladin\n",
      "paladin index -r3 /mnt/lustre/groups/maier/databases/Paladin/uhgp-90.faa\n"
     ]
    }
   ],
   "source": [
    "index_slurm = str_glue(index_slurm_raw,\n",
    "        job_name = \"paladin_index\", \n",
    "        index_dir = index_dir,\n",
    "        Protein_reference = uhgg_ref_faa,\n",
    "        conda_env = conda_env,\n",
    "        .open = \"[\", .close = \"]\") \n",
    "\n",
    "index_slurm %>%\n",
    "        print()"
   ]
  },
  {
   "cell_type": "code",
   "execution_count": 8,
   "id": "1381d231",
   "metadata": {
    "vscode": {
     "languageId": "r"
    }
   },
   "outputs": [],
   "source": [
    "# Write file\n",
    "index_slurmfile = file.path(index_dir, \"index_slurm.sh\")\n",
    "write_lines(index_slurm, index_slurmfile)"
   ]
  }
 ],
 "metadata": {
  "kernelspec": {
   "display_name": "R",
   "language": "R",
   "name": "ir"
  },
  "language_info": {
   "codemirror_mode": "r",
   "file_extension": ".r",
   "mimetype": "text/x-r-source",
   "name": "R",
   "pygments_lexer": "r",
   "version": "4.4.1"
  }
 },
 "nbformat": 4,
 "nbformat_minor": 5
}
