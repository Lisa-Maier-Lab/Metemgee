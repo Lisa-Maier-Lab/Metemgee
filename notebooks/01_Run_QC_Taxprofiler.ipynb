{
 "cells": [
  {
   "cell_type": "markdown",
   "metadata": {},
   "source": [
    "# Execute metagenome taxonomic profile\n",
    "Jacobo de la Cuesta-Zuluaga. August 2024.\n",
    "\n",
    "The aim of this notebook is to perform quality control of raw metagenome reads and run taxprofiler pipeline\n",
    "\n",
    "\n",
    "Note: the human (and other eukaryote) genomes were obtained from https://doi.org/10.5281/zenodo.4629921.\n",
    "\n",
    " "
   ]
  },
  {
   "cell_type": "markdown",
   "metadata": {},
   "source": [
    "## Before we start"
   ]
  },
  {
   "cell_type": "markdown",
   "metadata": {},
   "source": [
    "The execution of the pipeline requires `conda` to be installed and an environment with `nextflow` available. You can find instructions about how to install conda [here](https://conda.io/projects/conda/en/latest/user-guide/install/index.html).\n",
    "\n",
    "In addition, we'll be using the `nf-core` pipeline `taxprofiler`. You can read more about `nf-core` [here](https://nf-co.re/), as well as exploring the [pipeline's documentation](https://nf-co.re/taxprofiler/1.1.8/).  "
   ]
  },
  {
   "cell_type": "markdown",
   "metadata": {},
   "source": [
    "Be sure to add the following to your `~/.bashrc` file. With that, we're specifying a centralized folder where the `nf-core` pipelines will be downloaded. Make sure to modify the path as required.\n",
    "```\n",
    "export NXF_SINGULARITY_CACHEDIR=\"/mnt/lustre/groups/maier/YOUR_M3HPC_USERNAME/bin/nf-core\"\n",
    "```\n"
   ]
  },
  {
   "cell_type": "markdown",
   "metadata": {},
   "source": [
    "## Load libraries and set paths\n",
    "\n",
    "First, we'll set up the libraries and the work directory where we'll save our files"
   ]
  },
  {
   "cell_type": "code",
   "execution_count": 1,
   "metadata": {
    "vscode": {
     "languageId": "r"
    }
   },
   "outputs": [
    {
     "name": "stderr",
     "output_type": "stream",
     "text": [
      "── \u001b[1mAttaching core tidyverse packages\u001b[22m ──────────────────────── tidyverse 2.0.0 ──\n",
      "\u001b[32m✔\u001b[39m \u001b[34mdplyr    \u001b[39m 1.1.4     \u001b[32m✔\u001b[39m \u001b[34mreadr    \u001b[39m 2.1.5\n",
      "\u001b[32m✔\u001b[39m \u001b[34mforcats  \u001b[39m 1.0.0     \u001b[32m✔\u001b[39m \u001b[34mstringr  \u001b[39m 1.5.1\n",
      "\u001b[32m✔\u001b[39m \u001b[34mggplot2  \u001b[39m 3.5.1     \u001b[32m✔\u001b[39m \u001b[34mtibble   \u001b[39m 3.2.1\n",
      "\u001b[32m✔\u001b[39m \u001b[34mlubridate\u001b[39m 1.9.3     \u001b[32m✔\u001b[39m \u001b[34mtidyr    \u001b[39m 1.3.1\n",
      "\u001b[32m✔\u001b[39m \u001b[34mpurrr    \u001b[39m 1.0.2     \n",
      "── \u001b[1mConflicts\u001b[22m ────────────────────────────────────────── tidyverse_conflicts() ──\n",
      "\u001b[31m✖\u001b[39m \u001b[34mdplyr\u001b[39m::\u001b[32mfilter()\u001b[39m masks \u001b[34mstats\u001b[39m::filter()\n",
      "\u001b[31m✖\u001b[39m \u001b[34mdplyr\u001b[39m::\u001b[32mlag()\u001b[39m    masks \u001b[34mstats\u001b[39m::lag()\n",
      "\u001b[36mℹ\u001b[39m Use the conflicted package (\u001b[3m\u001b[34m<http://conflicted.r-lib.org/>\u001b[39m\u001b[23m) to force all conflicts to become errors\n"
     ]
    }
   ],
   "source": [
    "# Libraries\n",
    "library(tidyverse)\n",
    "library(conflicted)"
   ]
  },
  {
   "cell_type": "code",
   "execution_count": 2,
   "metadata": {
    "vscode": {
     "languageId": "r"
    }
   },
   "outputs": [
    {
     "name": "stderr",
     "output_type": "stream",
     "text": [
      "\u001b[1m\u001b[22m\u001b[90m[conflicted]\u001b[39m Will prefer \u001b[1m\u001b[34mdplyr\u001b[39m\u001b[22m::filter over any other package.\n"
     ]
    }
   ],
   "source": [
    "# Solve conflicts\n",
    "conflicts_prefer(dplyr::filter)"
   ]
  },
  {
   "cell_type": "markdown",
   "metadata": {},
   "source": [
    "The following chunk will define the directories where the data is stored and where the output will be saved. The present example assumes everything will be contained in the same directory: `base_dir`. This might be different in your particular case, for example, if your sequences are stored on a centralized directory or you have multiple runs stored in different folders. You can change this accordingly. \n",
    "\n",
    "An example of how to combine data from multiple runs will be provided below."
   ]
  },
  {
   "cell_type": "code",
   "execution_count": 3,
   "metadata": {
    "vscode": {
     "languageId": "r"
    }
   },
   "outputs": [
    {
     "name": "stderr",
     "output_type": "stream",
     "text": [
      "Warning message in dir.create(data_dir):\n",
      "“'/mnt/lustre/groups/maier/maide581/projects/Metemgee/data' already exists”\n",
      "Warning message in dir.create(seq_dir):\n",
      "“'/mnt/lustre/groups/maier/maide581/projects/Metemgee/data/raw_sequences' already exists”\n",
      "Warning message in dir.create(sheets_dir):\n",
      "“'/mnt/lustre/groups/maier/maide581/projects/Metemgee/data/sheets' already exists”\n"
     ]
    }
   ],
   "source": [
    "# Directories\n",
    "# Base directory\n",
    "base_dir = \"/mnt/lustre/groups/maier/maide581/projects/Metemgee\"\n",
    "\n",
    "# Data\n",
    "data_dir = file.path(base_dir, \"data\")\n",
    "dir.create(data_dir)\n",
    "\n",
    "# Sequences\n",
    "seq_dir = file.path(data_dir, \"raw_sequences\")\n",
    "dir.create(seq_dir)\n",
    "\n",
    "# Out\n",
    "out_dir = file.path(data_dir, \"taxprofiler\")\n",
    "dir.create(out_dir)\n",
    "\n",
    "# sheets dir\n",
    "sheets_dir = file.path(data_dir, \"sheets\")\n",
    "dir.create(sheets_dir)\n",
    "\n",
    "# Software\n",
    "conda_env = \"nextflow\""
   ]
  },
  {
   "cell_type": "markdown",
   "metadata": {},
   "source": [
    "## Download test files\n",
    "\n",
    "For the present example, we'll use publicly available metagenome files. They correspond to multiple sequencing runs of two samples, this means that the same sample was sequenced multiple times to achieve the desired sequencing depth. We'll use these samples to illustrate how to merge multiple sequencing runs to obtain the metagenome profile of a single sample."
   ]
  },
  {
   "cell_type": "code",
   "execution_count": 4,
   "metadata": {
    "vscode": {
     "languageId": "r"
    }
   },
   "outputs": [
    {
     "data": {
      "text/html": [
       "<style>\n",
       ".list-inline {list-style: none; margin:0; padding: 0}\n",
       ".list-inline>li {display: inline-block}\n",
       ".list-inline>li:not(:last-child)::after {content: \"\\00b7\"; padding: 0 .5ex}\n",
       "</style>\n",
       "<ol class=list-inline><li>'ftp://ftp.sra.ebi.ac.uk/vol1/run/ERR108/ERR10880517/MI-142-H.R1.RUN0129.L7.fastq.gz'</li><li>'ftp://ftp.sra.ebi.ac.uk/vol1/run/ERR108/ERR10880518/MI-142-H.R1.RUN0118.L4.fastq.gz'</li><li>'ftp://ftp.sra.ebi.ac.uk/vol1/run/ERR108/ERR10880517/MI-142-H.R2.RUN0129.L7.fastq.gz'</li><li>'ftp://ftp.sra.ebi.ac.uk/vol1/run/ERR108/ERR10880518/MI-142-H.R2.RUN0118.L4.fastq.gz'</li><li>'ftp://ftp.sra.ebi.ac.uk/vol1/run/ERR108/ERR10880579/MI-237-H.R2.RUN0129.L7.fastq.gz'</li><li>'ftp://ftp.sra.ebi.ac.uk/vol1/run/ERR108/ERR10880581/MI-237-H.R1.RUN0118.L2.fastq.gz'</li><li>'ftp://ftp.sra.ebi.ac.uk/vol1/run/ERR108/ERR10880577/MI-237-H.R1.RUN0173.L6.fastq.gz'</li><li>'ftp://ftp.sra.ebi.ac.uk/vol1/run/ERR108/ERR10880582/MI-237-H.R1.RUN0102.L5.fastq.gz'</li><li>'ftp://ftp.sra.ebi.ac.uk/vol1/run/ERR108/ERR10880579/MI-237-H.R1.RUN0129.L7.fastq.gz'</li><li>'ftp://ftp.sra.ebi.ac.uk/vol1/run/ERR108/ERR10880581/MI-237-H.R2.RUN0118.L2.fastq.gz'</li><li>'ftp://ftp.sra.ebi.ac.uk/vol1/run/ERR108/ERR10880577/MI-237-H.R2.RUN0173.L6.fastq.gz'</li><li>'ftp://ftp.sra.ebi.ac.uk/vol1/run/ERR108/ERR10880582/MI-237-H.R2.RUN0102.L5.fastq.gz'</li></ol>\n"
      ],
      "text/latex": [
       "\\begin{enumerate*}\n",
       "\\item 'ftp://ftp.sra.ebi.ac.uk/vol1/run/ERR108/ERR10880517/MI-142-H.R1.RUN0129.L7.fastq.gz'\n",
       "\\item 'ftp://ftp.sra.ebi.ac.uk/vol1/run/ERR108/ERR10880518/MI-142-H.R1.RUN0118.L4.fastq.gz'\n",
       "\\item 'ftp://ftp.sra.ebi.ac.uk/vol1/run/ERR108/ERR10880517/MI-142-H.R2.RUN0129.L7.fastq.gz'\n",
       "\\item 'ftp://ftp.sra.ebi.ac.uk/vol1/run/ERR108/ERR10880518/MI-142-H.R2.RUN0118.L4.fastq.gz'\n",
       "\\item 'ftp://ftp.sra.ebi.ac.uk/vol1/run/ERR108/ERR10880579/MI-237-H.R2.RUN0129.L7.fastq.gz'\n",
       "\\item 'ftp://ftp.sra.ebi.ac.uk/vol1/run/ERR108/ERR10880581/MI-237-H.R1.RUN0118.L2.fastq.gz'\n",
       "\\item 'ftp://ftp.sra.ebi.ac.uk/vol1/run/ERR108/ERR10880577/MI-237-H.R1.RUN0173.L6.fastq.gz'\n",
       "\\item 'ftp://ftp.sra.ebi.ac.uk/vol1/run/ERR108/ERR10880582/MI-237-H.R1.RUN0102.L5.fastq.gz'\n",
       "\\item 'ftp://ftp.sra.ebi.ac.uk/vol1/run/ERR108/ERR10880579/MI-237-H.R1.RUN0129.L7.fastq.gz'\n",
       "\\item 'ftp://ftp.sra.ebi.ac.uk/vol1/run/ERR108/ERR10880581/MI-237-H.R2.RUN0118.L2.fastq.gz'\n",
       "\\item 'ftp://ftp.sra.ebi.ac.uk/vol1/run/ERR108/ERR10880577/MI-237-H.R2.RUN0173.L6.fastq.gz'\n",
       "\\item 'ftp://ftp.sra.ebi.ac.uk/vol1/run/ERR108/ERR10880582/MI-237-H.R2.RUN0102.L5.fastq.gz'\n",
       "\\end{enumerate*}\n"
      ],
      "text/markdown": [
       "1. 'ftp://ftp.sra.ebi.ac.uk/vol1/run/ERR108/ERR10880517/MI-142-H.R1.RUN0129.L7.fastq.gz'\n",
       "2. 'ftp://ftp.sra.ebi.ac.uk/vol1/run/ERR108/ERR10880518/MI-142-H.R1.RUN0118.L4.fastq.gz'\n",
       "3. 'ftp://ftp.sra.ebi.ac.uk/vol1/run/ERR108/ERR10880517/MI-142-H.R2.RUN0129.L7.fastq.gz'\n",
       "4. 'ftp://ftp.sra.ebi.ac.uk/vol1/run/ERR108/ERR10880518/MI-142-H.R2.RUN0118.L4.fastq.gz'\n",
       "5. 'ftp://ftp.sra.ebi.ac.uk/vol1/run/ERR108/ERR10880579/MI-237-H.R2.RUN0129.L7.fastq.gz'\n",
       "6. 'ftp://ftp.sra.ebi.ac.uk/vol1/run/ERR108/ERR10880581/MI-237-H.R1.RUN0118.L2.fastq.gz'\n",
       "7. 'ftp://ftp.sra.ebi.ac.uk/vol1/run/ERR108/ERR10880577/MI-237-H.R1.RUN0173.L6.fastq.gz'\n",
       "8. 'ftp://ftp.sra.ebi.ac.uk/vol1/run/ERR108/ERR10880582/MI-237-H.R1.RUN0102.L5.fastq.gz'\n",
       "9. 'ftp://ftp.sra.ebi.ac.uk/vol1/run/ERR108/ERR10880579/MI-237-H.R1.RUN0129.L7.fastq.gz'\n",
       "10. 'ftp://ftp.sra.ebi.ac.uk/vol1/run/ERR108/ERR10880581/MI-237-H.R2.RUN0118.L2.fastq.gz'\n",
       "11. 'ftp://ftp.sra.ebi.ac.uk/vol1/run/ERR108/ERR10880577/MI-237-H.R2.RUN0173.L6.fastq.gz'\n",
       "12. 'ftp://ftp.sra.ebi.ac.uk/vol1/run/ERR108/ERR10880582/MI-237-H.R2.RUN0102.L5.fastq.gz'\n",
       "\n",
       "\n"
      ],
      "text/plain": [
       " [1] \"ftp://ftp.sra.ebi.ac.uk/vol1/run/ERR108/ERR10880517/MI-142-H.R1.RUN0129.L7.fastq.gz\"\n",
       " [2] \"ftp://ftp.sra.ebi.ac.uk/vol1/run/ERR108/ERR10880518/MI-142-H.R1.RUN0118.L4.fastq.gz\"\n",
       " [3] \"ftp://ftp.sra.ebi.ac.uk/vol1/run/ERR108/ERR10880517/MI-142-H.R2.RUN0129.L7.fastq.gz\"\n",
       " [4] \"ftp://ftp.sra.ebi.ac.uk/vol1/run/ERR108/ERR10880518/MI-142-H.R2.RUN0118.L4.fastq.gz\"\n",
       " [5] \"ftp://ftp.sra.ebi.ac.uk/vol1/run/ERR108/ERR10880579/MI-237-H.R2.RUN0129.L7.fastq.gz\"\n",
       " [6] \"ftp://ftp.sra.ebi.ac.uk/vol1/run/ERR108/ERR10880581/MI-237-H.R1.RUN0118.L2.fastq.gz\"\n",
       " [7] \"ftp://ftp.sra.ebi.ac.uk/vol1/run/ERR108/ERR10880577/MI-237-H.R1.RUN0173.L6.fastq.gz\"\n",
       " [8] \"ftp://ftp.sra.ebi.ac.uk/vol1/run/ERR108/ERR10880582/MI-237-H.R1.RUN0102.L5.fastq.gz\"\n",
       " [9] \"ftp://ftp.sra.ebi.ac.uk/vol1/run/ERR108/ERR10880579/MI-237-H.R1.RUN0129.L7.fastq.gz\"\n",
       "[10] \"ftp://ftp.sra.ebi.ac.uk/vol1/run/ERR108/ERR10880581/MI-237-H.R2.RUN0118.L2.fastq.gz\"\n",
       "[11] \"ftp://ftp.sra.ebi.ac.uk/vol1/run/ERR108/ERR10880577/MI-237-H.R2.RUN0173.L6.fastq.gz\"\n",
       "[12] \"ftp://ftp.sra.ebi.ac.uk/vol1/run/ERR108/ERR10880582/MI-237-H.R2.RUN0102.L5.fastq.gz\""
      ]
     },
     "metadata": {},
     "output_type": "display_data"
    }
   ],
   "source": [
    "# URL of the files from the ENA\n",
    "example_fastqs = c(\"ftp://ftp.sra.ebi.ac.uk/vol1/run/ERR108/ERR10880517/MI-142-H.R1.RUN0129.L7.fastq.gz\", \n",
    "    \"ftp://ftp.sra.ebi.ac.uk/vol1/run/ERR108/ERR10880518/MI-142-H.R1.RUN0118.L4.fastq.gz\",  \n",
    "    \"ftp://ftp.sra.ebi.ac.uk/vol1/run/ERR108/ERR10880517/MI-142-H.R2.RUN0129.L7.fastq.gz\", \n",
    "    \"ftp://ftp.sra.ebi.ac.uk/vol1/run/ERR108/ERR10880518/MI-142-H.R2.RUN0118.L4.fastq.gz\",\n",
    "    \"ftp://ftp.sra.ebi.ac.uk/vol1/run/ERR108/ERR10880579/MI-237-H.R2.RUN0129.L7.fastq.gz\",\n",
    "    \"ftp://ftp.sra.ebi.ac.uk/vol1/run/ERR108/ERR10880581/MI-237-H.R1.RUN0118.L2.fastq.gz\",\n",
    "    \"ftp://ftp.sra.ebi.ac.uk/vol1/run/ERR108/ERR10880577/MI-237-H.R1.RUN0173.L6.fastq.gz\",\n",
    "    \"ftp://ftp.sra.ebi.ac.uk/vol1/run/ERR108/ERR10880582/MI-237-H.R1.RUN0102.L5.fastq.gz\",\n",
    "    \"ftp://ftp.sra.ebi.ac.uk/vol1/run/ERR108/ERR10880579/MI-237-H.R1.RUN0129.L7.fastq.gz\",\n",
    "    \"ftp://ftp.sra.ebi.ac.uk/vol1/run/ERR108/ERR10880581/MI-237-H.R2.RUN0118.L2.fastq.gz\",\n",
    "    \"ftp://ftp.sra.ebi.ac.uk/vol1/run/ERR108/ERR10880577/MI-237-H.R2.RUN0173.L6.fastq.gz\",\n",
    "    \"ftp://ftp.sra.ebi.ac.uk/vol1/run/ERR108/ERR10880582/MI-237-H.R2.RUN0102.L5.fastq.gz\")\n",
    "\n",
    "example_fastqs"
   ]
  },
  {
   "cell_type": "code",
   "execution_count": 5,
   "metadata": {
    "vscode": {
     "languageId": "r"
    }
   },
   "outputs": [
    {
     "data": {
      "text/html": [
       "<ol>\n",
       "\t<li>0</li>\n",
       "\t<li>0</li>\n",
       "\t<li>0</li>\n",
       "\t<li>0</li>\n",
       "\t<li>0</li>\n",
       "\t<li>0</li>\n",
       "\t<li>0</li>\n",
       "\t<li>0</li>\n",
       "\t<li>0</li>\n",
       "\t<li>0</li>\n",
       "\t<li>0</li>\n",
       "\t<li>0</li>\n",
       "</ol>\n"
      ],
      "text/latex": [
       "\\begin{enumerate}\n",
       "\\item 0\n",
       "\\item 0\n",
       "\\item 0\n",
       "\\item 0\n",
       "\\item 0\n",
       "\\item 0\n",
       "\\item 0\n",
       "\\item 0\n",
       "\\item 0\n",
       "\\item 0\n",
       "\\item 0\n",
       "\\item 0\n",
       "\\end{enumerate}\n"
      ],
      "text/markdown": [
       "1. 0\n",
       "2. 0\n",
       "3. 0\n",
       "4. 0\n",
       "5. 0\n",
       "6. 0\n",
       "7. 0\n",
       "8. 0\n",
       "9. 0\n",
       "10. 0\n",
       "11. 0\n",
       "12. 0\n",
       "\n",
       "\n"
      ],
      "text/plain": [
       "[[1]]\n",
       "[1] 0\n",
       "\n",
       "[[2]]\n",
       "[1] 0\n",
       "\n",
       "[[3]]\n",
       "[1] 0\n",
       "\n",
       "[[4]]\n",
       "[1] 0\n",
       "\n",
       "[[5]]\n",
       "[1] 0\n",
       "\n",
       "[[6]]\n",
       "[1] 0\n",
       "\n",
       "[[7]]\n",
       "[1] 0\n",
       "\n",
       "[[8]]\n",
       "[1] 0\n",
       "\n",
       "[[9]]\n",
       "[1] 0\n",
       "\n",
       "[[10]]\n",
       "[1] 0\n",
       "\n",
       "[[11]]\n",
       "[1] 0\n",
       "\n",
       "[[12]]\n",
       "[1] 0\n"
      ]
     },
     "metadata": {},
     "output_type": "display_data"
    }
   ],
   "source": [
    "# Download files\n",
    "# This will take a few minutes\n",
    "map(example_fastqs, function(url){\n",
    "    download.file(url = url, destfile = file.path(seq_dir, basename(url)), method = \"wget\")\n",
    "})"
   ]
  },
  {
   "cell_type": "markdown",
   "metadata": {},
   "source": [
    "## Create Samples file\n",
    "\n",
    "We need to tell the pipeline which files correspond to which samples, to which sequencing run they correspond and where in our machine are stored those files. We do this by creating table where we specify the sample name and the location of the forward and reverse `fastq` files. \n",
    "\n",
    "In addition, we need to tell the pipeline which sequencing technology we used. In this case, we used an _Illumina_ machine, meaning that we got short reads. The specific software used by the pipeline will change according to this.\n",
    "\n",
    "**Note** that you can create this table by hand using excel or a text editor program, and exporting it as a `csv` file. In this example we're doing this programatically to use the information of the sample name from the full path of the files."
   ]
  },
  {
   "cell_type": "code",
   "execution_count": 6,
   "metadata": {
    "vscode": {
     "languageId": "r"
    }
   },
   "outputs": [],
   "source": [
    "# List raw sequences\n",
    "raw_seq_list = list.files(seq_dir,  \n",
    "        pattern = \"fastq.gz\",\n",
    "        full.names = TRUE)\n",
    "# Forward reads\n",
    "forward_reads = raw_seq_list %>%\n",
    "    str_subset(\"R1\")\n",
    "# Reverse reads\n",
    "reverse_reads = raw_seq_list %>%\n",
    "    str_subset(\"R2\")"
   ]
  },
  {
   "cell_type": "markdown",
   "metadata": {},
   "source": [
    "If your sequencing data is stored in multiple folders, you can concatenate multiple calls to `list.files()`, for example:\n",
    "\n",
    "```\n",
    "# Define dirs\n",
    "seq_dir_1 = \"/PATH/TO/DIR_1\"\n",
    "seq_dir_2 = \"/PATH/TO/DIR_2\"\n",
    "\n",
    "# List files\n",
    "raw_seq_list_1 = list.files(seq_dir_1,  \n",
    "        pattern = \"fastq.gz\",\n",
    "        full.names = TRUE)\n",
    "\n",
    "raw_seq_list_2 = list.files(seq_dir_1,  \n",
    "        pattern = \"fastq.gz\",\n",
    "        full.names = TRUE)\n",
    "\n",
    "# Combine\n",
    "raw_seq_list = c(raw_seq_list_1, raw_seq_list_2)\n",
    "```\n",
    "\n",
    "Then, you can continue with separating the forward and reverse files as in the second half of the chunk above"
   ]
  },
  {
   "cell_type": "code",
   "execution_count": 7,
   "metadata": {
    "vscode": {
     "languageId": "r"
    }
   },
   "outputs": [
    {
     "data": {
      "text/html": [
       "<table class=\"dataframe\">\n",
       "<caption>A grouped_df: 6 × 6</caption>\n",
       "<thead>\n",
       "\t<tr><th scope=col>sample</th><th scope=col>instrument_platform</th><th scope=col>run_accession</th><th scope=col>fastq_1</th><th scope=col>fastq_2</th><th scope=col>fasta</th></tr>\n",
       "\t<tr><th scope=col>&lt;chr&gt;</th><th scope=col>&lt;chr&gt;</th><th scope=col>&lt;chr&gt;</th><th scope=col>&lt;chr&gt;</th><th scope=col>&lt;chr&gt;</th><th scope=col>&lt;chr&gt;</th></tr>\n",
       "</thead>\n",
       "<tbody>\n",
       "\t<tr><td>MI-142-H</td><td>ILLUMINA</td><td>run_1</td><td>/mnt/lustre/groups/maier/maide581/projects/Metemgee/data/raw_sequences/MI-142-H.R1.RUN0118.L4.fastq.gz</td><td>/mnt/lustre/groups/maier/maide581/projects/Metemgee/data/raw_sequences/MI-142-H.R2.RUN0118.L4.fastq.gz</td><td></td></tr>\n",
       "\t<tr><td>MI-142-H</td><td>ILLUMINA</td><td>run_2</td><td>/mnt/lustre/groups/maier/maide581/projects/Metemgee/data/raw_sequences/MI-142-H.R1.RUN0129.L7.fastq.gz</td><td>/mnt/lustre/groups/maier/maide581/projects/Metemgee/data/raw_sequences/MI-142-H.R2.RUN0129.L7.fastq.gz</td><td></td></tr>\n",
       "\t<tr><td>MI-237-H</td><td>ILLUMINA</td><td>run_1</td><td>/mnt/lustre/groups/maier/maide581/projects/Metemgee/data/raw_sequences/MI-237-H.R1.RUN0102.L5.fastq.gz</td><td>/mnt/lustre/groups/maier/maide581/projects/Metemgee/data/raw_sequences/MI-237-H.R2.RUN0102.L5.fastq.gz</td><td></td></tr>\n",
       "\t<tr><td>MI-237-H</td><td>ILLUMINA</td><td>run_2</td><td>/mnt/lustre/groups/maier/maide581/projects/Metemgee/data/raw_sequences/MI-237-H.R1.RUN0118.L2.fastq.gz</td><td>/mnt/lustre/groups/maier/maide581/projects/Metemgee/data/raw_sequences/MI-237-H.R2.RUN0118.L2.fastq.gz</td><td></td></tr>\n",
       "\t<tr><td>MI-237-H</td><td>ILLUMINA</td><td>run_3</td><td>/mnt/lustre/groups/maier/maide581/projects/Metemgee/data/raw_sequences/MI-237-H.R1.RUN0129.L7.fastq.gz</td><td>/mnt/lustre/groups/maier/maide581/projects/Metemgee/data/raw_sequences/MI-237-H.R2.RUN0129.L7.fastq.gz</td><td></td></tr>\n",
       "\t<tr><td>MI-237-H</td><td>ILLUMINA</td><td>run_4</td><td>/mnt/lustre/groups/maier/maide581/projects/Metemgee/data/raw_sequences/MI-237-H.R1.RUN0173.L6.fastq.gz</td><td>/mnt/lustre/groups/maier/maide581/projects/Metemgee/data/raw_sequences/MI-237-H.R2.RUN0173.L6.fastq.gz</td><td></td></tr>\n",
       "</tbody>\n",
       "</table>\n"
      ],
      "text/latex": [
       "A grouped\\_df: 6 × 6\n",
       "\\begin{tabular}{llllll}\n",
       " sample & instrument\\_platform & run\\_accession & fastq\\_1 & fastq\\_2 & fasta\\\\\n",
       " <chr> & <chr> & <chr> & <chr> & <chr> & <chr>\\\\\n",
       "\\hline\n",
       "\t MI-142-H & ILLUMINA & run\\_1 & /mnt/lustre/groups/maier/maide581/projects/Metemgee/data/raw\\_sequences/MI-142-H.R1.RUN0118.L4.fastq.gz & /mnt/lustre/groups/maier/maide581/projects/Metemgee/data/raw\\_sequences/MI-142-H.R2.RUN0118.L4.fastq.gz & \\\\\n",
       "\t MI-142-H & ILLUMINA & run\\_2 & /mnt/lustre/groups/maier/maide581/projects/Metemgee/data/raw\\_sequences/MI-142-H.R1.RUN0129.L7.fastq.gz & /mnt/lustre/groups/maier/maide581/projects/Metemgee/data/raw\\_sequences/MI-142-H.R2.RUN0129.L7.fastq.gz & \\\\\n",
       "\t MI-237-H & ILLUMINA & run\\_1 & /mnt/lustre/groups/maier/maide581/projects/Metemgee/data/raw\\_sequences/MI-237-H.R1.RUN0102.L5.fastq.gz & /mnt/lustre/groups/maier/maide581/projects/Metemgee/data/raw\\_sequences/MI-237-H.R2.RUN0102.L5.fastq.gz & \\\\\n",
       "\t MI-237-H & ILLUMINA & run\\_2 & /mnt/lustre/groups/maier/maide581/projects/Metemgee/data/raw\\_sequences/MI-237-H.R1.RUN0118.L2.fastq.gz & /mnt/lustre/groups/maier/maide581/projects/Metemgee/data/raw\\_sequences/MI-237-H.R2.RUN0118.L2.fastq.gz & \\\\\n",
       "\t MI-237-H & ILLUMINA & run\\_3 & /mnt/lustre/groups/maier/maide581/projects/Metemgee/data/raw\\_sequences/MI-237-H.R1.RUN0129.L7.fastq.gz & /mnt/lustre/groups/maier/maide581/projects/Metemgee/data/raw\\_sequences/MI-237-H.R2.RUN0129.L7.fastq.gz & \\\\\n",
       "\t MI-237-H & ILLUMINA & run\\_4 & /mnt/lustre/groups/maier/maide581/projects/Metemgee/data/raw\\_sequences/MI-237-H.R1.RUN0173.L6.fastq.gz & /mnt/lustre/groups/maier/maide581/projects/Metemgee/data/raw\\_sequences/MI-237-H.R2.RUN0173.L6.fastq.gz & \\\\\n",
       "\\end{tabular}\n"
      ],
      "text/markdown": [
       "\n",
       "A grouped_df: 6 × 6\n",
       "\n",
       "| sample &lt;chr&gt; | instrument_platform &lt;chr&gt; | run_accession &lt;chr&gt; | fastq_1 &lt;chr&gt; | fastq_2 &lt;chr&gt; | fasta &lt;chr&gt; |\n",
       "|---|---|---|---|---|---|\n",
       "| MI-142-H | ILLUMINA | run_1 | /mnt/lustre/groups/maier/maide581/projects/Metemgee/data/raw_sequences/MI-142-H.R1.RUN0118.L4.fastq.gz | /mnt/lustre/groups/maier/maide581/projects/Metemgee/data/raw_sequences/MI-142-H.R2.RUN0118.L4.fastq.gz | <!----> |\n",
       "| MI-142-H | ILLUMINA | run_2 | /mnt/lustre/groups/maier/maide581/projects/Metemgee/data/raw_sequences/MI-142-H.R1.RUN0129.L7.fastq.gz | /mnt/lustre/groups/maier/maide581/projects/Metemgee/data/raw_sequences/MI-142-H.R2.RUN0129.L7.fastq.gz | <!----> |\n",
       "| MI-237-H | ILLUMINA | run_1 | /mnt/lustre/groups/maier/maide581/projects/Metemgee/data/raw_sequences/MI-237-H.R1.RUN0102.L5.fastq.gz | /mnt/lustre/groups/maier/maide581/projects/Metemgee/data/raw_sequences/MI-237-H.R2.RUN0102.L5.fastq.gz | <!----> |\n",
       "| MI-237-H | ILLUMINA | run_2 | /mnt/lustre/groups/maier/maide581/projects/Metemgee/data/raw_sequences/MI-237-H.R1.RUN0118.L2.fastq.gz | /mnt/lustre/groups/maier/maide581/projects/Metemgee/data/raw_sequences/MI-237-H.R2.RUN0118.L2.fastq.gz | <!----> |\n",
       "| MI-237-H | ILLUMINA | run_3 | /mnt/lustre/groups/maier/maide581/projects/Metemgee/data/raw_sequences/MI-237-H.R1.RUN0129.L7.fastq.gz | /mnt/lustre/groups/maier/maide581/projects/Metemgee/data/raw_sequences/MI-237-H.R2.RUN0129.L7.fastq.gz | <!----> |\n",
       "| MI-237-H | ILLUMINA | run_4 | /mnt/lustre/groups/maier/maide581/projects/Metemgee/data/raw_sequences/MI-237-H.R1.RUN0173.L6.fastq.gz | /mnt/lustre/groups/maier/maide581/projects/Metemgee/data/raw_sequences/MI-237-H.R2.RUN0173.L6.fastq.gz | <!----> |\n",
       "\n"
      ],
      "text/plain": [
       "  sample   instrument_platform run_accession\n",
       "1 MI-142-H ILLUMINA            run_1        \n",
       "2 MI-142-H ILLUMINA            run_2        \n",
       "3 MI-237-H ILLUMINA            run_1        \n",
       "4 MI-237-H ILLUMINA            run_2        \n",
       "5 MI-237-H ILLUMINA            run_3        \n",
       "6 MI-237-H ILLUMINA            run_4        \n",
       "  fastq_1                                                                                               \n",
       "1 /mnt/lustre/groups/maier/maide581/projects/Metemgee/data/raw_sequences/MI-142-H.R1.RUN0118.L4.fastq.gz\n",
       "2 /mnt/lustre/groups/maier/maide581/projects/Metemgee/data/raw_sequences/MI-142-H.R1.RUN0129.L7.fastq.gz\n",
       "3 /mnt/lustre/groups/maier/maide581/projects/Metemgee/data/raw_sequences/MI-237-H.R1.RUN0102.L5.fastq.gz\n",
       "4 /mnt/lustre/groups/maier/maide581/projects/Metemgee/data/raw_sequences/MI-237-H.R1.RUN0118.L2.fastq.gz\n",
       "5 /mnt/lustre/groups/maier/maide581/projects/Metemgee/data/raw_sequences/MI-237-H.R1.RUN0129.L7.fastq.gz\n",
       "6 /mnt/lustre/groups/maier/maide581/projects/Metemgee/data/raw_sequences/MI-237-H.R1.RUN0173.L6.fastq.gz\n",
       "  fastq_2                                                                                               \n",
       "1 /mnt/lustre/groups/maier/maide581/projects/Metemgee/data/raw_sequences/MI-142-H.R2.RUN0118.L4.fastq.gz\n",
       "2 /mnt/lustre/groups/maier/maide581/projects/Metemgee/data/raw_sequences/MI-142-H.R2.RUN0129.L7.fastq.gz\n",
       "3 /mnt/lustre/groups/maier/maide581/projects/Metemgee/data/raw_sequences/MI-237-H.R2.RUN0102.L5.fastq.gz\n",
       "4 /mnt/lustre/groups/maier/maide581/projects/Metemgee/data/raw_sequences/MI-237-H.R2.RUN0118.L2.fastq.gz\n",
       "5 /mnt/lustre/groups/maier/maide581/projects/Metemgee/data/raw_sequences/MI-237-H.R2.RUN0129.L7.fastq.gz\n",
       "6 /mnt/lustre/groups/maier/maide581/projects/Metemgee/data/raw_sequences/MI-237-H.R2.RUN0173.L6.fastq.gz\n",
       "  fasta\n",
       "1      \n",
       "2      \n",
       "3      \n",
       "4      \n",
       "5      \n",
       "6      "
      ]
     },
     "metadata": {},
     "output_type": "display_data"
    }
   ],
   "source": [
    "# Create a single data frame for taxprofiler\n",
    "reads_tax_df = data.frame(fastq_1 = forward_reads, # Full path of forward reads\n",
    "        fastq_2 = reverse_reads, # Full path of reverse reads\n",
    "        instrument_platform = \"ILLUMINA\", # Sequencing platform \n",
    "        fasta = \"\") %>% # Empty field since we don't have fasta files\n",
    "    mutate(sample = basename(fastq_1), # Sample name from the file\n",
    "        sample = str_remove(sample, \"\\\\.R1.*\")) %>%\n",
    "    group_by(sample) %>%\n",
    "    mutate(run_accession = str_c(\"run_\", row_number())) %>% # If more than one run, specify which run it was\n",
    "    relocate(sample, instrument_platform, run_accession) # Reorder columns\n",
    "\n",
    "reads_tax_df %>%\n",
    "    head()"
   ]
  },
  {
   "cell_type": "code",
   "execution_count": 8,
   "metadata": {
    "vscode": {
     "languageId": "r"
    }
   },
   "outputs": [],
   "source": [
    "# Write samples file\n",
    "samples_sheet_tax = file.path(sheets_dir, \"samples_file_taxprofiler.csv\")\n",
    "write_csv(reads_tax_df,file = samples_sheet_tax)"
   ]
  },
  {
   "cell_type": "markdown",
   "metadata": {},
   "source": [
    "## Run pipeline"
   ]
  },
  {
   "cell_type": "markdown",
   "metadata": {},
   "source": [
    "The pipeline requires a file with the location of the databases for the software to be used. \n",
    "\n",
    "You don't need to modify this if you are using the centralized database folder of A.G. Maier"
   ]
  },
  {
   "cell_type": "code",
   "execution_count": 9,
   "metadata": {
    "vscode": {
     "languageId": "r"
    }
   },
   "outputs": [
    {
     "data": {
      "text/html": [
       "<table class=\"dataframe\">\n",
       "<caption>A data.frame: 4 × 4</caption>\n",
       "<thead>\n",
       "\t<tr><th scope=col>tool</th><th scope=col>db_name</th><th scope=col>db_params</th><th scope=col>db_path</th></tr>\n",
       "\t<tr><th scope=col>&lt;chr&gt;</th><th scope=col>&lt;chr&gt;</th><th scope=col>&lt;chr&gt;</th><th scope=col>&lt;chr&gt;</th></tr>\n",
       "</thead>\n",
       "<tbody>\n",
       "\t<tr><td>kraken2  </td><td>k2_standard_16gb</td><td>       </td><td>/mnt/lustre/groups/maier/databases/Kraken_Bracken/k2_standard_16gb/k2_standard_16gb_20240605.tar.gz</td></tr>\n",
       "\t<tr><td>bracken  </td><td>B_standard_16gb </td><td>;-r 150</td><td>/mnt/lustre/groups/maier/databases/Kraken_Bracken/k2_standard_16gb/k2_standard_16gb_20240605.tar.gz</td></tr>\n",
       "\t<tr><td>metaphlan</td><td>metaphlan       </td><td>       </td><td>/mnt/lustre/groups/maier/databases/Metaphlan                                                       </td></tr>\n",
       "\t<tr><td>motus    </td><td>db_mOTU         </td><td>       </td><td>/mnt/lustre/groups/maier/databases/mOTUs/db_mOTU                                                   </td></tr>\n",
       "</tbody>\n",
       "</table>\n"
      ],
      "text/latex": [
       "A data.frame: 4 × 4\n",
       "\\begin{tabular}{llll}\n",
       " tool & db\\_name & db\\_params & db\\_path\\\\\n",
       " <chr> & <chr> & <chr> & <chr>\\\\\n",
       "\\hline\n",
       "\t kraken2   & k2\\_standard\\_16gb &         & /mnt/lustre/groups/maier/databases/Kraken\\_Bracken/k2\\_standard\\_16gb/k2\\_standard\\_16gb\\_20240605.tar.gz\\\\\n",
       "\t bracken   & B\\_standard\\_16gb  & ;-r 150 & /mnt/lustre/groups/maier/databases/Kraken\\_Bracken/k2\\_standard\\_16gb/k2\\_standard\\_16gb\\_20240605.tar.gz\\\\\n",
       "\t metaphlan & metaphlan        &         & /mnt/lustre/groups/maier/databases/Metaphlan                                                       \\\\\n",
       "\t motus     & db\\_mOTU          &         & /mnt/lustre/groups/maier/databases/mOTUs/db\\_mOTU                                                   \\\\\n",
       "\\end{tabular}\n"
      ],
      "text/markdown": [
       "\n",
       "A data.frame: 4 × 4\n",
       "\n",
       "| tool &lt;chr&gt; | db_name &lt;chr&gt; | db_params &lt;chr&gt; | db_path &lt;chr&gt; |\n",
       "|---|---|---|---|\n",
       "| kraken2   | k2_standard_16gb | <!----> | /mnt/lustre/groups/maier/databases/Kraken_Bracken/k2_standard_16gb/k2_standard_16gb_20240605.tar.gz |\n",
       "| bracken   | B_standard_16gb  | ;-r 150 | /mnt/lustre/groups/maier/databases/Kraken_Bracken/k2_standard_16gb/k2_standard_16gb_20240605.tar.gz |\n",
       "| metaphlan | metaphlan        | <!----> | /mnt/lustre/groups/maier/databases/Metaphlan                                                        |\n",
       "| motus     | db_mOTU          | <!----> | /mnt/lustre/groups/maier/databases/mOTUs/db_mOTU                                                    |\n",
       "\n"
      ],
      "text/plain": [
       "  tool      db_name          db_params\n",
       "1 kraken2   k2_standard_16gb          \n",
       "2 bracken   B_standard_16gb  ;-r 150  \n",
       "3 metaphlan metaphlan                 \n",
       "4 motus     db_mOTU                   \n",
       "  db_path                                                                                            \n",
       "1 /mnt/lustre/groups/maier/databases/Kraken_Bracken/k2_standard_16gb/k2_standard_16gb_20240605.tar.gz\n",
       "2 /mnt/lustre/groups/maier/databases/Kraken_Bracken/k2_standard_16gb/k2_standard_16gb_20240605.tar.gz\n",
       "3 /mnt/lustre/groups/maier/databases/Metaphlan                                                       \n",
       "4 /mnt/lustre/groups/maier/databases/mOTUs/db_mOTU                                                   "
      ]
     },
     "metadata": {},
     "output_type": "display_data"
    }
   ],
   "source": [
    "# Create dbs file\n",
    "dbs_df = data.frame(tool = c(\"kraken2\",\"bracken\", \"metaphlan\", \"motus\"),\n",
    "    db_name = c(\"k2_standard_16gb\", \"B_standard_16gb\", \"metaphlan\", \"db_mOTU\"),\n",
    "    db_params = c(\"\", \";-r 150\", \"\", \"\"),\n",
    "    db_path = c(\"/mnt/lustre/groups/maier/databases/Kraken_Bracken/k2_standard_16gb/k2_standard_16gb_20240605.tar.gz\",\n",
    "                \"/mnt/lustre/groups/maier/databases/Kraken_Bracken/k2_standard_16gb/k2_standard_16gb_20240605.tar.gz\",\n",
    "                \"/mnt/lustre/groups/maier/databases/Metaphlan\",\n",
    "                \"/mnt/lustre/groups/maier/databases/mOTUs/db_mOTU\")) \n",
    "\n",
    "dbs_df\n",
    "\n",
    "# Write file\n",
    "dbs_file = file.path(sheets_dir, \"database_file.csv\")\n",
    "dbs_df %>%\n",
    "    write_csv(dbs_file)"
   ]
  },
  {
   "cell_type": "code",
   "execution_count": 10,
   "metadata": {
    "vscode": {
     "languageId": "r"
    }
   },
   "outputs": [],
   "source": [
    "# Taxdump folder\n",
    "taxdump_dir = \"/mnt/lustre/groups/maier/databases/Taxdump\"\n",
    "\n",
    "# Host genomes\n",
    "host_genome = \"/mnt/lustre/groups/maier/databases/Host_genomes/hg19_main_mask_ribo_animal_allplant_allfungus.fa\""
   ]
  },
  {
   "cell_type": "markdown",
   "metadata": {},
   "source": [
    "Next, the `nextflow` command to execute the pipeline will be created. You can modify it if you wish. As it is, it asks the pipeline to do quality control of the raw sequences and to store the clean reads. **This is important** because the clean reads can (and will) be used in downstream steps. For now, the only profiler we're using is `Kraken`+`Bracken`. You can use any of the available tools as long as you provide the corresponding database in the file above."
   ]
  },
  {
   "cell_type": "code",
   "execution_count": 11,
   "metadata": {
    "vscode": {
     "languageId": "r"
    }
   },
   "outputs": [],
   "source": [
    "# Create command\n",
    "# Base command\n",
    "# To run metaphlan add  --run_metaphlan\n",
    "taxprofiler_cmd = str_glue(\n",
    "  \"conda activate {{conda_env}} && \\\\\n",
    "  cd {{out_dir}} && \\\\\n",
    "  nextflow run nf-core/taxprofiler -r 1.2.3 \\\\\n",
    "  --input {{samples_sheet}} \\\\\n",
    "  --databases {{databases_sheet}} \\\\\n",
    "  --outdir {{out_dir}} \\\\\n",
    "  -profile m3c \\\\\n",
    "  --perform_shortread_qc \\\\\n",
    "  --perform_shortread_hostremoval \\\\\n",
    "  --perform_runmerging \\\\\n",
    "  --shortread_qc_dedup \\\\\n",
    "  --save_analysis_ready_fastqs \\\\\n",
    "  --hostremoval_reference {{host_genome}} \\\\\n",
    "  --run_profile_standardisation \\\\\n",
    "  --taxpasta_taxonomy_dir {{tax_dir}} \\\\\n",
    "  --taxpasta_add_name \\\\\n",
    "  --taxpasta_add_rank \\\\\n",
    "  --taxpasta_add_lineage \\\\\n",
    "  --taxpasta_add_ranklineage \\\\\n",
    "  --run_kraken2 \\\\\n",
    "  --run_bracken\")"
   ]
  },
  {
   "cell_type": "markdown",
   "metadata": {},
   "source": [
    "Once constructed, you can run the pipeline with the following command. You can simply copy and paste it on the terminal. It is wise to execute using `screen` or `tmux` so it runs in the background, so even if you disconnect from the HPC, the execution will continue."
   ]
  },
  {
   "cell_type": "code",
   "execution_count": 12,
   "metadata": {
    "vscode": {
     "languageId": "r"
    }
   },
   "outputs": [
    {
     "data": {
      "text/html": [
       "'conda activate nextflow &amp;&amp; cd /mnt/lustre/groups/maier/maide581/projects/Metemgee/data/taxprofiler &amp;&amp; nextflow run nf-core/taxprofiler -r 1.2.3 --input /mnt/lustre/groups/maier/maide581/projects/Metemgee/data/sheets/samples_file_taxprofiler.csv --databases /mnt/lustre/groups/maier/maide581/projects/Metemgee/data/sheets/database_file.csv --outdir /mnt/lustre/groups/maier/maide581/projects/Metemgee/data/taxprofiler -profile m3c --perform_shortread_qc --perform_shortread_hostremoval --perform_runmerging --shortread_qc_dedup --save_analysis_ready_fastqs --hostremoval_reference /mnt/lustre/groups/maier/databases/Host_genomes/hg19_main_mask_ribo_animal_allplant_allfungus.fa --run_profile_standardisation --taxpasta_taxonomy_dir /mnt/lustre/groups/maier/databases/Taxdump --taxpasta_add_name --taxpasta_add_rank --taxpasta_add_lineage --taxpasta_add_ranklineage --run_kraken2 --run_bracken'"
      ],
      "text/latex": [
       "'conda activate nextflow \\&\\& cd /mnt/lustre/groups/maier/maide581/projects/Metemgee/data/taxprofiler \\&\\& nextflow run nf-core/taxprofiler -r 1.2.3 --input /mnt/lustre/groups/maier/maide581/projects/Metemgee/data/sheets/samples\\_file\\_taxprofiler.csv --databases /mnt/lustre/groups/maier/maide581/projects/Metemgee/data/sheets/database\\_file.csv --outdir /mnt/lustre/groups/maier/maide581/projects/Metemgee/data/taxprofiler -profile m3c --perform\\_shortread\\_qc --perform\\_shortread\\_hostremoval --perform\\_runmerging --shortread\\_qc\\_dedup --save\\_analysis\\_ready\\_fastqs --hostremoval\\_reference /mnt/lustre/groups/maier/databases/Host\\_genomes/hg19\\_main\\_mask\\_ribo\\_animal\\_allplant\\_allfungus.fa --run\\_profile\\_standardisation --taxpasta\\_taxonomy\\_dir /mnt/lustre/groups/maier/databases/Taxdump --taxpasta\\_add\\_name --taxpasta\\_add\\_rank --taxpasta\\_add\\_lineage --taxpasta\\_add\\_ranklineage --run\\_kraken2 --run\\_bracken'"
      ],
      "text/markdown": [
       "'conda activate nextflow &amp;&amp; cd /mnt/lustre/groups/maier/maide581/projects/Metemgee/data/taxprofiler &amp;&amp; nextflow run nf-core/taxprofiler -r 1.2.3 --input /mnt/lustre/groups/maier/maide581/projects/Metemgee/data/sheets/samples_file_taxprofiler.csv --databases /mnt/lustre/groups/maier/maide581/projects/Metemgee/data/sheets/database_file.csv --outdir /mnt/lustre/groups/maier/maide581/projects/Metemgee/data/taxprofiler -profile m3c --perform_shortread_qc --perform_shortread_hostremoval --perform_runmerging --shortread_qc_dedup --save_analysis_ready_fastqs --hostremoval_reference /mnt/lustre/groups/maier/databases/Host_genomes/hg19_main_mask_ribo_animal_allplant_allfungus.fa --run_profile_standardisation --taxpasta_taxonomy_dir /mnt/lustre/groups/maier/databases/Taxdump --taxpasta_add_name --taxpasta_add_rank --taxpasta_add_lineage --taxpasta_add_ranklineage --run_kraken2 --run_bracken'"
      ],
      "text/plain": [
       "conda activate nextflow && cd /mnt/lustre/groups/maier/maide581/projects/Metemgee/data/taxprofiler && nextflow run nf-core/taxprofiler -r 1.2.3 --input /mnt/lustre/groups/maier/maide581/projects/Metemgee/data/sheets/samples_file_taxprofiler.csv --databases /mnt/lustre/groups/maier/maide581/projects/Metemgee/data/sheets/database_file.csv --outdir /mnt/lustre/groups/maier/maide581/projects/Metemgee/data/taxprofiler -profile m3c --perform_shortread_qc --perform_shortread_hostremoval --perform_runmerging --shortread_qc_dedup --save_analysis_ready_fastqs --hostremoval_reference /mnt/lustre/groups/maier/databases/Host_genomes/hg19_main_mask_ribo_animal_allplant_allfungus.fa --run_profile_standardisation --taxpasta_taxonomy_dir /mnt/lustre/groups/maier/databases/Taxdump --taxpasta_add_name --taxpasta_add_rank --taxpasta_add_lineage --taxpasta_add_ranklineage --run_kraken2 --run_bracken"
      ]
     },
     "metadata": {},
     "output_type": "display_data"
    }
   ],
   "source": [
    "# Fill command\n",
    "Clean_tax_cmd = str_glue(taxprofiler_cmd,\n",
    "                         conda_env = conda_env,\n",
    "                         samples_sheet = samples_sheet_tax,\n",
    "                         databases_sheet = dbs_file,\n",
    "                         tax_dir = taxdump_dir,\n",
    "                         host_genome = host_genome,\n",
    "                         out_dir = out_dir)\n",
    "\n",
    "Clean_tax_cmd"
   ]
  },
  {
   "cell_type": "markdown",
   "metadata": {},
   "source": [
    "## Output\n",
    "Once the pipeline is finished, you should find the tables in the `taxprofiler/taxpasta` and `taxprofiler/bracken` subdirectories of the output folder you specified. The results in both are basically the same, the difference is that `taxpasta` includes the complete taxonomic classification of each microbe found, not only the species name.\n",
    "\n",
    "**Note** that the `kraken`+`bracken` databases used in this example include the human genome and viruses. Make sure to filter them out in your statistical analyses if you're only interested in the abundance of _Bacteria_ and _Archaea_"
   ]
  }
 ],
 "metadata": {
  "kernelspec": {
   "display_name": "R",
   "language": "R",
   "name": "ir"
  },
  "language_info": {
   "codemirror_mode": "r",
   "file_extension": ".r",
   "mimetype": "text/x-r-source",
   "name": "R",
   "pygments_lexer": "r",
   "version": "4.4.1"
  }
 },
 "nbformat": 4,
 "nbformat_minor": 2
}
