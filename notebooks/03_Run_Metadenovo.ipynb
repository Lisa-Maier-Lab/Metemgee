{
 "cells": [
  {
   "cell_type": "markdown",
   "metadata": {},
   "source": [
    "# Execute metagenome functional profile\n",
    "Jacobo de la Cuesta-Zuluaga. August 2024.\n",
    "\n",
    "The aim of this notebook is to obtain the functional profile from metagenome samples.\n",
    "\n",
    "This notebook uses an alternative pipeline to the `02_Run_Functional.ipynb`. Instead of the database-dependent approach used by `mifaser`, this one uses the `nf-code/metadenovo`, which is assembly based. [You can find the pipeline's documentation here](https://nf-co.re/metatdenovo).\n",
    "\n",
    "It assembles the metagenome or metatranscriptome samples, performs gene calling and aligns the reads to the assembled metagenomes/metatranscriptomes. This has the advantage that it doesn't require a database of genes against which the reads will be mapped. On the other hand, comparing samples from multiple runs of the pipeline might not be the most adequate and all samples to be used in a given analysis might benefit from being processed uniformly."
   ]
  },
  {
   "cell_type": "markdown",
   "metadata": {},
   "source": [
    "## Before we start\n",
    "This notebook assumes that the sequences already went through QC. In this case, we're using the output files from the `taxprofiler` pipeline, which performs sequence quality control and removal of host sequences. See notebook 01 for that. "
   ]
  },
  {
   "cell_type": "markdown",
   "metadata": {},
   "source": [
    "## Load libraries and set paths\n",
    "\n",
    "First, we'll set up the libraries and the work directory where we'll save our files"
   ]
  },
  {
   "cell_type": "code",
   "execution_count": 1,
   "metadata": {
    "vscode": {
     "languageId": "r"
    }
   },
   "outputs": [
    {
     "name": "stderr",
     "output_type": "stream",
     "text": [
      "── \u001b[1mAttaching core tidyverse packages\u001b[22m ──────────────────────── tidyverse 2.0.0 ──\n",
      "\u001b[32m✔\u001b[39m \u001b[34mdplyr    \u001b[39m 1.1.4     \u001b[32m✔\u001b[39m \u001b[34mreadr    \u001b[39m 2.1.5\n",
      "\u001b[32m✔\u001b[39m \u001b[34mforcats  \u001b[39m 1.0.0     \u001b[32m✔\u001b[39m \u001b[34mstringr  \u001b[39m 1.5.1\n",
      "\u001b[32m✔\u001b[39m \u001b[34mggplot2  \u001b[39m 3.5.1     \u001b[32m✔\u001b[39m \u001b[34mtibble   \u001b[39m 3.2.1\n",
      "\u001b[32m✔\u001b[39m \u001b[34mlubridate\u001b[39m 1.9.3     \u001b[32m✔\u001b[39m \u001b[34mtidyr    \u001b[39m 1.3.1\n",
      "\u001b[32m✔\u001b[39m \u001b[34mpurrr    \u001b[39m 1.0.2     \n",
      "── \u001b[1mConflicts\u001b[22m ────────────────────────────────────────── tidyverse_conflicts() ──\n",
      "\u001b[31m✖\u001b[39m \u001b[34mdplyr\u001b[39m::\u001b[32mfilter()\u001b[39m masks \u001b[34mstats\u001b[39m::filter()\n",
      "\u001b[31m✖\u001b[39m \u001b[34mdplyr\u001b[39m::\u001b[32mlag()\u001b[39m    masks \u001b[34mstats\u001b[39m::lag()\n",
      "\u001b[36mℹ\u001b[39m Use the conflicted package (\u001b[3m\u001b[34m<http://conflicted.r-lib.org/>\u001b[39m\u001b[23m) to force all conflicts to become errors\n"
     ]
    }
   ],
   "source": [
    "# Libraries\n",
    "library(tidyverse)\n",
    "library(conflicted)"
   ]
  },
  {
   "cell_type": "code",
   "execution_count": 2,
   "metadata": {
    "vscode": {
     "languageId": "r"
    }
   },
   "outputs": [
    {
     "name": "stderr",
     "output_type": "stream",
     "text": [
      "\u001b[1m\u001b[22m\u001b[90m[conflicted]\u001b[39m Will prefer \u001b[1m\u001b[34mdplyr\u001b[39m\u001b[22m::filter over any other package.\n"
     ]
    }
   ],
   "source": [
    "# Solve conflicts\n",
    "conflicts_prefer(dplyr::filter)"
   ]
  },
  {
   "cell_type": "markdown",
   "metadata": {},
   "source": [
    "The following chunk will define the directories where the data is stored and where the output will be saved. The present example assumes everything will be contained in the same directory: `base_dir`. "
   ]
  },
  {
   "cell_type": "code",
   "execution_count": 10,
   "metadata": {
    "vscode": {
     "languageId": "r"
    }
   },
   "outputs": [
    {
     "name": "stderr",
     "output_type": "stream",
     "text": [
      "Warning message in dir.create(data_dir):\n",
      "“'/mnt/lustre/groups/maier/maide581/projects/Small_projects/Metemgee_test/data' already exists”\n"
     ]
    },
    {
     "name": "stderr",
     "output_type": "stream",
     "text": [
      "Warning message in dir.create(sheets_dir):\n",
      "“'/mnt/lustre/groups/maier/maide581/projects/Small_projects/Metemgee_test/data/sheets' already exists”\n",
      "Warning message in dir.create(bin_dir):\n",
      "“'/mnt/lustre/groups/maier/maide581/projects/Small_projects/Metemgee_test/bin' already exists”\n"
     ]
    }
   ],
   "source": [
    "# Directories\n",
    "# Base directory\n",
    "base_dir = \"/mnt/lustre/groups/maier/maide581/projects/Small_projects/Metemgee_test\"\n",
    "\n",
    "# Data\n",
    "data_dir = file.path(base_dir, \"data\")\n",
    "dir.create(data_dir)\n",
    "\n",
    "# Sequences\n",
    "seq_dir = file.path(data_dir, \"taxprofiler/analysis_ready_fastqs\")\n",
    "\n",
    "# Out\n",
    "out_dir = file.path(data_dir, \"Metadenovo\")\n",
    "dir.create(out_dir)\n",
    "\n",
    "# sheets dir\n",
    "sheets_dir = file.path(data_dir, \"sheets\")\n",
    "dir.create(sheets_dir)\n",
    "\n",
    "# Software\n",
    "bin_dir = file.path(base_dir, \"bin\")\n",
    "dir.create(bin_dir)\n",
    "conda_env = \"nextflow\""
   ]
  },
  {
   "cell_type": "markdown",
   "metadata": {},
   "source": [
    "## Create samples file\n",
    "Similar to the file we passed to taxprofiler, we'll need to create a file with the name of the sample and the files corresponding to forward and reverse reads.\n",
    "\n",
    "**Note** that in this case we'll need the clean reads, not the raw reads."
   ]
  },
  {
   "cell_type": "code",
   "execution_count": 4,
   "metadata": {
    "vscode": {
     "languageId": "r"
    }
   },
   "outputs": [
    {
     "data": {
      "text/html": [
       "<style>\n",
       ".list-inline {list-style: none; margin:0; padding: 0}\n",
       ".list-inline>li {display: inline-block}\n",
       ".list-inline>li:not(:last-child)::after {content: \"\\00b7\"; padding: 0 .5ex}\n",
       "</style>\n",
       "<ol class=list-inline><li>'/mnt/lustre/groups/maier/maide581/projects/Small_projects/Metemgee_test/data/taxprofiler/analysis_ready_fastqs/MI-142-H_1.merged.fastq.gz'</li><li>'/mnt/lustre/groups/maier/maide581/projects/Small_projects/Metemgee_test/data/taxprofiler/analysis_ready_fastqs/MI-142-H_2.merged.fastq.gz'</li><li>'/mnt/lustre/groups/maier/maide581/projects/Small_projects/Metemgee_test/data/taxprofiler/analysis_ready_fastqs/MI-237-H_1.merged.fastq.gz'</li><li>'/mnt/lustre/groups/maier/maide581/projects/Small_projects/Metemgee_test/data/taxprofiler/analysis_ready_fastqs/MI-237-H_2.merged.fastq.gz'</li></ol>\n"
      ],
      "text/latex": [
       "\\begin{enumerate*}\n",
       "\\item '/mnt/lustre/groups/maier/maide581/projects/Small\\_projects/Metemgee\\_test/data/taxprofiler/analysis\\_ready\\_fastqs/MI-142-H\\_1.merged.fastq.gz'\n",
       "\\item '/mnt/lustre/groups/maier/maide581/projects/Small\\_projects/Metemgee\\_test/data/taxprofiler/analysis\\_ready\\_fastqs/MI-142-H\\_2.merged.fastq.gz'\n",
       "\\item '/mnt/lustre/groups/maier/maide581/projects/Small\\_projects/Metemgee\\_test/data/taxprofiler/analysis\\_ready\\_fastqs/MI-237-H\\_1.merged.fastq.gz'\n",
       "\\item '/mnt/lustre/groups/maier/maide581/projects/Small\\_projects/Metemgee\\_test/data/taxprofiler/analysis\\_ready\\_fastqs/MI-237-H\\_2.merged.fastq.gz'\n",
       "\\end{enumerate*}\n"
      ],
      "text/markdown": [
       "1. '/mnt/lustre/groups/maier/maide581/projects/Small_projects/Metemgee_test/data/taxprofiler/analysis_ready_fastqs/MI-142-H_1.merged.fastq.gz'\n",
       "2. '/mnt/lustre/groups/maier/maide581/projects/Small_projects/Metemgee_test/data/taxprofiler/analysis_ready_fastqs/MI-142-H_2.merged.fastq.gz'\n",
       "3. '/mnt/lustre/groups/maier/maide581/projects/Small_projects/Metemgee_test/data/taxprofiler/analysis_ready_fastqs/MI-237-H_1.merged.fastq.gz'\n",
       "4. '/mnt/lustre/groups/maier/maide581/projects/Small_projects/Metemgee_test/data/taxprofiler/analysis_ready_fastqs/MI-237-H_2.merged.fastq.gz'\n",
       "\n",
       "\n"
      ],
      "text/plain": [
       "[1] \"/mnt/lustre/groups/maier/maide581/projects/Small_projects/Metemgee_test/data/taxprofiler/analysis_ready_fastqs/MI-142-H_1.merged.fastq.gz\"\n",
       "[2] \"/mnt/lustre/groups/maier/maide581/projects/Small_projects/Metemgee_test/data/taxprofiler/analysis_ready_fastqs/MI-142-H_2.merged.fastq.gz\"\n",
       "[3] \"/mnt/lustre/groups/maier/maide581/projects/Small_projects/Metemgee_test/data/taxprofiler/analysis_ready_fastqs/MI-237-H_1.merged.fastq.gz\"\n",
       "[4] \"/mnt/lustre/groups/maier/maide581/projects/Small_projects/Metemgee_test/data/taxprofiler/analysis_ready_fastqs/MI-237-H_2.merged.fastq.gz\""
      ]
     },
     "metadata": {},
     "output_type": "display_data"
    }
   ],
   "source": [
    "# List raw sequences\n",
    "clean_seq_list = list.files(seq_dir,  \n",
    "        pattern = \"merged.fastq.gz\",\n",
    "        full.names = TRUE)\n",
    "# F\n",
    "forward_reads = clean_seq_list %>%\n",
    "    str_subset(\"_1\")\n",
    "#R\n",
    "reverse_reads = clean_seq_list %>%\n",
    "    str_subset(\"_2\")\n",
    "\n",
    "clean_seq_list"
   ]
  },
  {
   "cell_type": "code",
   "execution_count": 5,
   "metadata": {
    "vscode": {
     "languageId": "r"
    }
   },
   "outputs": [
    {
     "data": {
      "text/html": [
       "<table class=\"dataframe\">\n",
       "<caption>A data.frame: 2 × 3</caption>\n",
       "<thead>\n",
       "\t<tr><th></th><th scope=col>sample</th><th scope=col>fastq_1</th><th scope=col>fastq_2</th></tr>\n",
       "\t<tr><th></th><th scope=col>&lt;chr&gt;</th><th scope=col>&lt;chr&gt;</th><th scope=col>&lt;chr&gt;</th></tr>\n",
       "</thead>\n",
       "<tbody>\n",
       "\t<tr><th scope=row>1</th><td>MI-142-H</td><td>/mnt/lustre/groups/maier/maide581/projects/Small_projects/Metemgee_test/data/taxprofiler/analysis_ready_fastqs/MI-142-H_1.merged.fastq.gz</td><td>/mnt/lustre/groups/maier/maide581/projects/Small_projects/Metemgee_test/data/taxprofiler/analysis_ready_fastqs/MI-142-H_2.merged.fastq.gz</td></tr>\n",
       "\t<tr><th scope=row>2</th><td>MI-237-H</td><td>/mnt/lustre/groups/maier/maide581/projects/Small_projects/Metemgee_test/data/taxprofiler/analysis_ready_fastqs/MI-237-H_1.merged.fastq.gz</td><td>/mnt/lustre/groups/maier/maide581/projects/Small_projects/Metemgee_test/data/taxprofiler/analysis_ready_fastqs/MI-237-H_2.merged.fastq.gz</td></tr>\n",
       "</tbody>\n",
       "</table>\n"
      ],
      "text/latex": [
       "A data.frame: 2 × 3\n",
       "\\begin{tabular}{r|lll}\n",
       "  & sample & fastq\\_1 & fastq\\_2\\\\\n",
       "  & <chr> & <chr> & <chr>\\\\\n",
       "\\hline\n",
       "\t1 & MI-142-H & /mnt/lustre/groups/maier/maide581/projects/Small\\_projects/Metemgee\\_test/data/taxprofiler/analysis\\_ready\\_fastqs/MI-142-H\\_1.merged.fastq.gz & /mnt/lustre/groups/maier/maide581/projects/Small\\_projects/Metemgee\\_test/data/taxprofiler/analysis\\_ready\\_fastqs/MI-142-H\\_2.merged.fastq.gz\\\\\n",
       "\t2 & MI-237-H & /mnt/lustre/groups/maier/maide581/projects/Small\\_projects/Metemgee\\_test/data/taxprofiler/analysis\\_ready\\_fastqs/MI-237-H\\_1.merged.fastq.gz & /mnt/lustre/groups/maier/maide581/projects/Small\\_projects/Metemgee\\_test/data/taxprofiler/analysis\\_ready\\_fastqs/MI-237-H\\_2.merged.fastq.gz\\\\\n",
       "\\end{tabular}\n"
      ],
      "text/markdown": [
       "\n",
       "A data.frame: 2 × 3\n",
       "\n",
       "| <!--/--> | sample &lt;chr&gt; | fastq_1 &lt;chr&gt; | fastq_2 &lt;chr&gt; |\n",
       "|---|---|---|---|\n",
       "| 1 | MI-142-H | /mnt/lustre/groups/maier/maide581/projects/Small_projects/Metemgee_test/data/taxprofiler/analysis_ready_fastqs/MI-142-H_1.merged.fastq.gz | /mnt/lustre/groups/maier/maide581/projects/Small_projects/Metemgee_test/data/taxprofiler/analysis_ready_fastqs/MI-142-H_2.merged.fastq.gz |\n",
       "| 2 | MI-237-H | /mnt/lustre/groups/maier/maide581/projects/Small_projects/Metemgee_test/data/taxprofiler/analysis_ready_fastqs/MI-237-H_1.merged.fastq.gz | /mnt/lustre/groups/maier/maide581/projects/Small_projects/Metemgee_test/data/taxprofiler/analysis_ready_fastqs/MI-237-H_2.merged.fastq.gz |\n",
       "\n"
      ],
      "text/plain": [
       "  sample  \n",
       "1 MI-142-H\n",
       "2 MI-237-H\n",
       "  fastq_1                                                                                                                                  \n",
       "1 /mnt/lustre/groups/maier/maide581/projects/Small_projects/Metemgee_test/data/taxprofiler/analysis_ready_fastqs/MI-142-H_1.merged.fastq.gz\n",
       "2 /mnt/lustre/groups/maier/maide581/projects/Small_projects/Metemgee_test/data/taxprofiler/analysis_ready_fastqs/MI-237-H_1.merged.fastq.gz\n",
       "  fastq_2                                                                                                                                  \n",
       "1 /mnt/lustre/groups/maier/maide581/projects/Small_projects/Metemgee_test/data/taxprofiler/analysis_ready_fastqs/MI-142-H_2.merged.fastq.gz\n",
       "2 /mnt/lustre/groups/maier/maide581/projects/Small_projects/Metemgee_test/data/taxprofiler/analysis_ready_fastqs/MI-237-H_2.merged.fastq.gz"
      ]
     },
     "metadata": {},
     "output_type": "display_data"
    }
   ],
   "source": [
    "# Combine lists of files to create a data frame\n",
    "reads_tax_df = data.frame(fastq_1 = forward_reads, # Full path of forward reads\n",
    "        fastq_2 = reverse_reads) %>% # Full path of reverse reads\n",
    "    mutate(sample = basename(fastq_1), # Sample name from the file\n",
    "        sample = str_remove(sample, \"_[0-9]\\\\.merged.*\")) %>%\n",
    "    relocate(sample, fastq_1, fastq_2) # Reorder columns\n",
    "\n",
    "reads_tax_df %>%\n",
    "    head()"
   ]
  },
  {
   "cell_type": "code",
   "execution_count": 6,
   "metadata": {
    "vscode": {
     "languageId": "r"
    }
   },
   "outputs": [],
   "source": [
    "# Write samples file\n",
    "Metadenovo_samplesfile = file.path(sheets_dir, \"samples_file_Metadenovo.csv\")\n",
    "write_csv(reads_tax_df,\n",
    "    file = Metadenovo_samplesfile)"
   ]
  },
  {
   "cell_type": "markdown",
   "metadata": {},
   "source": [
    "# Execute pipeline"
   ]
  },
  {
   "cell_type": "code",
   "execution_count": 19,
   "metadata": {
    "vscode": {
     "languageId": "r"
    }
   },
   "outputs": [],
   "source": [
    "# Path to eukulele database\n",
    "eukulele_path = \"/mnt/lustre/groups/maier/databases/EUKulele\"\n",
    "\n",
    "# Host genomes\n",
    "host_genome = \"/mnt/lustre/groups/maier/databases/Host_genomes/hg19_main_mask_ribo_animal_allplant_allfungus.fa\""
   ]
  },
  {
   "cell_type": "code",
   "execution_count": 20,
   "metadata": {
    "vscode": {
     "languageId": "r"
    }
   },
   "outputs": [],
   "source": [
    "# Create command\n",
    "# Base command\n",
    "Metadenovo_cmd = str_glue(\n",
    "  \"conda activate {{conda_env}} && \\\\\n",
    "  cd {{out_dir}} && \\\\\n",
    "  nextflow run nf-core/metatdenovo -r 1.0.1 \\\\\n",
    "  -profile m3c \\\\\n",
    "  --input {{samples_sheet}} \\\\\n",
    "  --outdir {{out_dir}} \\\\\n",
    "  --eukulele_db gtdb \\\\\n",
    "  --eukulele_dbpath {{eukulele_path}}\")"
   ]
  },
  {
   "cell_type": "code",
   "execution_count": 21,
   "metadata": {
    "vscode": {
     "languageId": "r"
    }
   },
   "outputs": [
    {
     "data": {
      "text/html": [
       "'conda activate nextflow &amp;&amp; cd /mnt/lustre/groups/maier/maide581/projects/Small_projects/Metemgee_test/data/Metadenovo &amp;&amp; nextflow run nf-core/metatdenovo -r 1.0.1 -profile m3c --input /mnt/lustre/groups/maier/maide581/projects/Small_projects/Metemgee_test/data/sheets/samples_file_Metadenovo.csv --outdir /mnt/lustre/groups/maier/maide581/projects/Small_projects/Metemgee_test/data/Metadenovo --eukulele_db gtdb --eukulele_dbpath /mnt/lustre/groups/maier/databases/EUKulele'"
      ],
      "text/latex": [
       "'conda activate nextflow \\&\\& cd /mnt/lustre/groups/maier/maide581/projects/Small\\_projects/Metemgee\\_test/data/Metadenovo \\&\\& nextflow run nf-core/metatdenovo -r 1.0.1 -profile m3c --input /mnt/lustre/groups/maier/maide581/projects/Small\\_projects/Metemgee\\_test/data/sheets/samples\\_file\\_Metadenovo.csv --outdir /mnt/lustre/groups/maier/maide581/projects/Small\\_projects/Metemgee\\_test/data/Metadenovo --eukulele\\_db gtdb --eukulele\\_dbpath /mnt/lustre/groups/maier/databases/EUKulele'"
      ],
      "text/markdown": [
       "'conda activate nextflow &amp;&amp; cd /mnt/lustre/groups/maier/maide581/projects/Small_projects/Metemgee_test/data/Metadenovo &amp;&amp; nextflow run nf-core/metatdenovo -r 1.0.1 -profile m3c --input /mnt/lustre/groups/maier/maide581/projects/Small_projects/Metemgee_test/data/sheets/samples_file_Metadenovo.csv --outdir /mnt/lustre/groups/maier/maide581/projects/Small_projects/Metemgee_test/data/Metadenovo --eukulele_db gtdb --eukulele_dbpath /mnt/lustre/groups/maier/databases/EUKulele'"
      ],
      "text/plain": [
       "conda activate nextflow && cd /mnt/lustre/groups/maier/maide581/projects/Small_projects/Metemgee_test/data/Metadenovo && nextflow run nf-core/metatdenovo -r 1.0.1 -profile m3c --input /mnt/lustre/groups/maier/maide581/projects/Small_projects/Metemgee_test/data/sheets/samples_file_Metadenovo.csv --outdir /mnt/lustre/groups/maier/maide581/projects/Small_projects/Metemgee_test/data/Metadenovo --eukulele_db gtdb --eukulele_dbpath /mnt/lustre/groups/maier/databases/EUKulele"
      ]
     },
     "metadata": {},
     "output_type": "display_data"
    }
   ],
   "source": [
    "# Fill command\n",
    "Clean_tax_cmd = str_glue(Metadenovo_cmd,\n",
    "    conda_env = conda_env,\n",
    "    samples_sheet = Metadenovo_samplesfile,\n",
    "    out_dir = out_dir, \n",
    "    eukulele_path = eukulele_path)\n",
    "\n",
    "Clean_tax_cmd"
   ]
  }
 ],
 "metadata": {
  "kernelspec": {
   "display_name": "R",
   "language": "R",
   "name": "ir"
  },
  "language_info": {
   "codemirror_mode": "r",
   "file_extension": ".r",
   "mimetype": "text/x-r-source",
   "name": "R",
   "pygments_lexer": "r",
   "version": "4.3.3"
  }
 },
 "nbformat": 4,
 "nbformat_minor": 2
}
